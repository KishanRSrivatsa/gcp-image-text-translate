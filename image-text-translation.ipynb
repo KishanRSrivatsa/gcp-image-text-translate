{
 "cells": [
  {
   "cell_type": "code",
   "execution_count": 62,
   "id": "a166bef7-45f1-4945-88f1-c0f0d68c9503",
   "metadata": {},
   "outputs": [],
   "source": [
    "from os import environ\n",
    "\n",
    "from google.cloud import translate\n",
    "\n",
    "import os\n",
    "\n",
    "os.environ[\"GOOGLE_APPLICATION_CREDENTIALS\"] = \"project-name-created-key-file-on-service-account-json-format\"\n",
    "PROJECT_ID = environ.get(\"PROJECT_ID\", \"created-project-id-number\")\n",
    "assert PROJECT_ID\n",
    "PARENT = f\"projects/{PROJECT_ID}\""
   ]
  },
  {
   "cell_type": "code",
   "execution_count": 63,
   "id": "6bb366af-3a6f-40d0-a801-5a7d766451cd",
   "metadata": {},
   "outputs": [],
   "source": [
    "def translate_text(text: str, target_language_code: str) -> translate.Translation:\n",
    "    client = translate.TranslationServiceClient()\n",
    "\n",
    "    response = client.translate_text(\n",
    "        parent=PARENT,\n",
    "        contents=[text],\n",
    "        target_language_code=target_language_code,\n",
    "    )\n",
    "\n",
    "    return response.translations[0]"
   ]
  },
  {
   "cell_type": "code",
   "execution_count": 88,
   "id": "68d8491f-3344-41ad-bb9a-caf5e0f1f195",
   "metadata": {},
   "outputs": [],
   "source": [
    "from google.api_core.client_options import ClientOptions\n",
    "from google.cloud import documentai\n",
    "\n",
    "# TODO(developer): Uncomment these variables before running the sample.\n",
    "project_id = 'created-project-id-number'\n",
    "location = 'us' # Format is 'us' or 'eu'\n",
    "processor_id = 'processor-id-doc-ai' #  Create processor before running sample\n",
    "file_path = 'Screenshot_20230425-122202.jpg'\n",
    "mime_type = 'image/jpeg' # Refer to https://cloud.google.com/document-ai/docs/file-types for supported file types\n",
    "\n",
    "\n",
    "def quickstart():\n",
    "    # You must set the api_endpoint if you use a location other than 'us'.\n",
    "    opts = ClientOptions(api_endpoint=f\"{location}-documentai.googleapis.com\")\n",
    "\n",
    "    client = documentai.DocumentProcessorServiceClient(client_options=opts)\n",
    "\n",
    "    # The full resource name of the processor, e.g.:\n",
    "    # projects/project_id/locations/location/processor/processor_id\n",
    "    name = client.processor_path(project_id, location, processor_id)\n",
    "   # print(name)\n",
    "\n",
    "    # Read the file into memory\n",
    "    with open(file_path, \"rb\") as image:\n",
    "        image_content = image.read()\n",
    "\n",
    "    # Load Binary Data into Document AI RawDocument Object\n",
    "    raw_document = documentai.RawDocument(content=image_content, mime_type=mime_type)\n",
    "\n",
    "    # Configure the process request\n",
    "    request = documentai.ProcessRequest(name=name, raw_document=raw_document)\n",
    "\n",
    "    result = client.process_document(request=request)\n",
    " \n",
    "    # For a full list of Document object attributes, please reference this page:\n",
    "    # https://cloud.google.com/python/docs/reference/documentai/latest/google.cloud.documentai_v1.types.Document\n",
    "    document = result.document\n",
    "\n",
    "\n",
    "    # Read the text recognition output from the processor\n",
    "    print(\"The document contains the following text:\")\n",
    "     \n",
    "    return document.text\n"
   ]
  },
  {
   "cell_type": "code",
   "execution_count": null,
   "id": "3adb3720",
   "metadata": {},
   "outputs": [],
   "source": [
    "result_text = quickstart()\n",
    "print(result_text)"
   ]
  },
  {
   "cell_type": "code",
   "execution_count": null,
   "id": "067d2265-5507-4ae1-badd-24c7ae0e1672",
   "metadata": {
    "scrolled": true
   },
   "outputs": [],
   "source": [
    "target_languages = [\"en\"]\n",
    "#text = \"\"\n",
    "# print(f\" {text} \".center(50, \"-\"))\n",
    "for target_language in target_languages:\n",
    "    translation = translate_text(result_text, target_language)\n",
    "    #print(translation)\n",
    "    source_language = translation.detected_language_code\n",
    "    translated_text = translation.translated_text\n",
    "    print(f\"{source_language} → {target_language} : {translated_text}\")"
   ]
  },
  {
   "cell_type": "code",
   "execution_count": null,
   "id": "aa26bf6c-c88d-4a1c-997a-a554c936882d",
   "metadata": {},
   "outputs": [],
   "source": [
    "target_languages = [\"en\"]\n",
    "text=\"Sample text\"\n",
    "print(f\" {text} \".center(25, \"-\"))\n",
    "for target_language in target_languages:\n",
    "    translation = translate_text(text, target_language)\n",
    "    #print(translation)\n",
    "    source_language = translation.detected_language_code\n",
    "    translated_text = translation.translated_text\n",
    "    print(f\"{source_language} → {target_language} : {translated_text}\")"
   ]
  },
  {
   "cell_type": "code",
   "execution_count": null,
   "id": "0be114b1-856c-445a-a94f-71fce19505b8",
   "metadata": {},
   "outputs": [],
   "source": []
  }
 ],
 "metadata": {
  "environment": {
   "kernel": "python3",
   "name": "common-cpu.m107",
   "type": "gcloud",
   "uri": "gcr.io/deeplearning-platform-release/base-cpu:m107"
  },
  "kernelspec": {
   "display_name": "Python 3 (ipykernel)",
   "language": "python",
   "name": "python3"
  },
  "language_info": {
   "codemirror_mode": {
    "name": "ipython",
    "version": 3
   },
   "file_extension": ".py",
   "mimetype": "text/x-python",
   "name": "python",
   "nbconvert_exporter": "python",
   "pygments_lexer": "ipython3",
   "version": "3.9.7"
  }
 },
 "nbformat": 4,
 "nbformat_minor": 5
}
